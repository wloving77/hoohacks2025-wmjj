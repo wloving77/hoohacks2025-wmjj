{
 "cells": [
  {
   "cell_type": "code",
   "execution_count": 22,
   "metadata": {},
   "outputs": [],
   "source": [
    "import importlib\n",
    "import app\n",
    "importlib.reload(app)\n",
    "\n",
    "from app import similarity_search_articles, similarity_search_executive"
   ]
  },
  {
   "cell_type": "code",
   "execution_count": 23,
   "metadata": {},
   "outputs": [
    {
     "data": {
      "text/plain": [
       "[{'article_id': 268,\n",
       "  'name': 'Advancing Racial Equity and Support for Underserved Communities Through the Federal Government',\n",
       "  'similarity_score': np.float64(0.5488475321029077)},\n",
       " {'article_id': 215,\n",
       "  'name': 'Diversity, Equity, Inclusion, and Accessibility in the Federal Workforce',\n",
       "  'similarity_score': np.float64(0.5445548347684201)},\n",
       " {'article_id': 667,\n",
       "  'name': 'Establishing a Coordinated Government-Wide Initiative to Promote Diversity and Inclusion in the Federal Workforce',\n",
       "  'similarity_score': np.float64(0.5104152152387889)},\n",
       " {'article_id': 200,\n",
       "  'name': 'White House Initiative on Advancing Educational Equity, Excellence, and Economic Opportunity for Black Americans',\n",
       "  'similarity_score': np.float64(0.4893341513750302)}]"
      ]
     },
     "execution_count": 23,
     "metadata": {},
     "output_type": "execute_result"
    }
   ],
   "source": [
    "similarity_search_executive(\"affirmative action\", top_k=4)"
   ]
  },
  {
   "cell_type": "code",
   "execution_count": null,
   "metadata": {},
   "outputs": [],
   "source": []
  }
 ],
 "metadata": {
  "kernelspec": {
   "display_name": "Python 3",
   "language": "python",
   "name": "python3"
  },
  "language_info": {
   "codemirror_mode": {
    "name": "ipython",
    "version": 3
   },
   "file_extension": ".py",
   "mimetype": "text/x-python",
   "name": "python",
   "nbconvert_exporter": "python",
   "pygments_lexer": "ipython3",
   "version": "3.9.6"
  }
 },
 "nbformat": 4,
 "nbformat_minor": 2
}

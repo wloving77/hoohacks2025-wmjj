{
 "cells": [
  {
   "cell_type": "code",
   "execution_count": 55,
   "metadata": {},
   "outputs": [],
   "source": [
    "import importlib\n",
    "import executive_orders, articles\n",
    "\n",
    "importlib.reload(executive_orders)\n",
    "importlib.reload(articles)\n",
    "\n",
    "\n",
    "# Now re-import the function after reload\n",
    "from executive_orders import insert_executive_orders_from_csv\n",
    "from articles import insert_articles_from_json\n"
   ]
  },
  {
   "cell_type": "code",
   "execution_count": 50,
   "metadata": {},
   "outputs": [
    {
     "name": "stdout",
     "output_type": "stream",
     "text": [
      "Executive orders imported successfully.\n"
     ]
    }
   ],
   "source": [
    "insert_executive_orders_from_csv(\"../data/executive_orders.csv\")"
   ]
  },
  {
   "cell_type": "code",
   "execution_count": 57,
   "metadata": {},
   "outputs": [
    {
     "name": "stdout",
     "output_type": "stream",
     "text": [
      "Articles imported successfully.\n"
     ]
    }
   ],
   "source": [
    "insert_articles_from_json(\"../data/perigon_us_politics_2025.json\")"
   ]
  },
  {
   "cell_type": "code",
   "execution_count": null,
   "metadata": {},
   "outputs": [],
   "source": []
  }
 ],
 "metadata": {
  "kernelspec": {
   "display_name": "Python 3",
   "language": "python",
   "name": "python3"
  },
  "language_info": {
   "codemirror_mode": {
    "name": "ipython",
    "version": 3
   },
   "file_extension": ".py",
   "mimetype": "text/x-python",
   "name": "python",
   "nbconvert_exporter": "python",
   "pygments_lexer": "ipython3",
   "version": "3.9.6"
  }
 },
 "nbformat": 4,
 "nbformat_minor": 2
}

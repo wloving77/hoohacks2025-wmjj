{
 "cells": [
  {
   "cell_type": "code",
   "execution_count": 1,
   "metadata": {},
   "outputs": [
    {
     "name": "stderr",
     "output_type": "stream",
     "text": [
      "/Users/williamloving/Library/Python/3.9/lib/python/site-packages/urllib3/__init__.py:35: NotOpenSSLWarning: urllib3 v2 only supports OpenSSL 1.1.1+, currently the 'ssl' module is compiled with 'LibreSSL 2.8.3'. See: https://github.com/urllib3/urllib3/issues/3020\n",
      "  warnings.warn(\n",
      "/Users/williamloving/Library/Python/3.9/lib/python/site-packages/tqdm/auto.py:21: TqdmWarning: IProgress not found. Please update jupyter and ipywidgets. See https://ipywidgets.readthedocs.io/en/stable/user_install.html\n",
      "  from .autonotebook import tqdm as notebook_tqdm\n"
     ]
    }
   ],
   "source": [
    "import importlib\n",
    "import executive_orders, articles, issues\n",
    "\n",
    "importlib.reload(executive_orders)\n",
    "importlib.reload(articles)\n",
    "importlib.reload(issues)\n",
    "\n",
    "# Now re-import the function after reload\n",
    "from executive_orders import insert_executive_orders_from_csv\n",
    "from articles import insert_articles_from_json\n",
    "from issues import write_issues_directly_from_csv\n"
   ]
  },
  {
   "cell_type": "code",
   "execution_count": 2,
   "metadata": {},
   "outputs": [
    {
     "name": "stdout",
     "output_type": "stream",
     "text": [
      "Executive orders imported successfully.\n"
     ]
    }
   ],
   "source": [
    "insert_executive_orders_from_csv(\"../data/executive_orders.csv\")"
   ]
  },
  {
   "cell_type": "code",
   "execution_count": 3,
   "metadata": {},
   "outputs": [
    {
     "name": "stdout",
     "output_type": "stream",
     "text": [
      "Articles imported successfully.\n"
     ]
    }
   ],
   "source": [
    "insert_articles_from_json(\"../data/perigon_us_politics_2025.json\")"
   ]
  },
  {
   "cell_type": "code",
   "execution_count": 4,
   "metadata": {},
   "outputs": [
    {
     "name": "stdout",
     "output_type": "stream",
     "text": [
      "✅ Inserted issue #1: Inflation\n",
      "✅ Inserted issue #2: Jobs and Wages\n",
      "✅ Inserted issue #3: Housing Affordability\n",
      "✅ Inserted issue #4: Government Spending\n",
      "✅ Inserted issue #5: Taxation\n",
      "✅ Inserted issue #6: Healthcare\n",
      "✅ Inserted issue #7: Education\n",
      "✅ Inserted issue #8: Crime\n",
      "✅ Inserted issue #9: Gun Control\n",
      "✅ Inserted issue #10: Drug Crisis\n",
      "✅ Inserted issue #11: Homelessness\n",
      "✅ Inserted issue #12: Social Security\n",
      "✅ Inserted issue #13: Medicare\n",
      "✅ Inserted issue #14: Political Polarization\n",
      "✅ Inserted issue #15: Election Integrity\n",
      "✅ Inserted issue #16: Government Corruption\n",
      "✅ Inserted issue #17: Immigration\n",
      "✅ Inserted issue #18: Free Speech\n",
      "✅ Inserted issue #19: Climate Change\n",
      "✅ Inserted issue #20: Energy Policy\n",
      "✅ Inserted issue #21: Infrastructure\n",
      "✅ Inserted issue #22: China\n",
      "✅ Inserted issue #23: Russia\n",
      "✅ Inserted issue #24: Middle East\n",
      "✅ Inserted issue #25: LGBTQ+ Rights\n"
     ]
    }
   ],
   "source": [
    "write_issues_directly_from_csv(\"../data/issues.csv\")"
   ]
  },
  {
   "cell_type": "code",
   "execution_count": null,
   "metadata": {},
   "outputs": [],
   "source": []
  }
 ],
 "metadata": {
  "kernelspec": {
   "display_name": "Python 3",
   "language": "python",
   "name": "python3"
  },
  "language_info": {
   "codemirror_mode": {
    "name": "ipython",
    "version": 3
   },
   "file_extension": ".py",
   "mimetype": "text/x-python",
   "name": "python",
   "nbconvert_exporter": "python",
   "pygments_lexer": "ipython3",
   "version": "3.9.6"
  }
 },
 "nbformat": 4,
 "nbformat_minor": 2
}
